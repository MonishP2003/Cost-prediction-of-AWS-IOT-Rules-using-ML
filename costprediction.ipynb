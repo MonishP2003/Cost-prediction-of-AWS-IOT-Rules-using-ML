{
 "cells": [
  {
   "cell_type": "code",
   "execution_count": null,
   "metadata": {},
   "outputs": [],
   "source": [
    "import numpy as np\n",
    "import pandas as pd\n",
    "from statsmodels.tsa.statespace.sarimax import SARIMAX\n",
    "import datetime\n",
    "import boto3\n",
    "from io import StringIO\n",
    "import gzip"
   ]
  },
  {
   "cell_type": "code",
   "execution_count": null,
   "metadata": {},
   "outputs": [],
   "source": [
    "# Create an STS client\n",
    "sts_client = boto3.client('sts')\n",
    "\n",
    "# Assume the 'dataexportrole' role with an external ID\n",
    "assumed_role = sts_client.assume_role(\n",
    "    RoleArn=\"\",\n",
    "    RoleSessionName=\"AssumeRoleSession1\",\n",
    "    ExternalId=\"VsCode\"\n",
    ")\n",
    "\n",
    "# Extract the temporary credentials\n",
    "credentials = assumed_role['Credentials']\n",
    "\n",
    "# Create a new session with the assumed role's temporary credentials\n",
    "session = boto3.Session(\n",
    "    aws_access_key_id=credentials['AccessKeyId'],\n",
    "    aws_secret_access_key=credentials['SecretAccessKey'],\n",
    "    aws_session_token=credentials['SessionToken'],\n",
    "    region_name='us-east-1'\n",
    ")\n",
    "\n",
    "# Use the session to create an S3 client\n",
    "s3_client = session.client('s3')\n",
    "\n",
    "bucket_name = ''\n",
    "data_export_file_path = ''\n",
    "\n",
    "# Access the S3 object\n",
    "response = s3_client.get_object(Bucket=bucket_name, Key=data_export_file_path)\n",
    "gzipped_content = response['Body'].read()\n",
    "\n",
    "# Decompress and read the content\n",
    "decompressed_content = gzip.decompress(gzipped_content)\n",
    "data_string = StringIO(decompressed_content.decode('utf-8'))\n",
    "data = pd.read_csv(data_string, index_col=0)\n"
   ]
  },
  {
   "cell_type": "code",
   "execution_count": null,
   "metadata": {},
   "outputs": [],
   "source": [
    "data['line_item_usage_end_date'] = data['line_item_usage_end_date'].str.replace('T0', 'T', regex=False)\n",
    "data['line_item_usage_end_date'] = pd.to_datetime(data['line_item_usage_end_date'])\n",
    "data.set_index('line_item_usage_end_date', inplace=True)"
   ]
  },
  {
   "cell_type": "code",
   "execution_count": null,
   "metadata": {},
   "outputs": [],
   "source": [
    "filtered_data = data[data['line_item_operation'] == 'Rules']\n",
    "hourly_data = filtered_data['pricing_public_on_demand_cost'].resample('h').sum()\n",
    "model = SARIMAX(hourly_data, order=(1,1,1), seasonal_order=(1,1,1,12))\n",
    "model_fit = model.fit()\n",
    "\n",
    "n_hours = 24 * 31\n",
    "forecast = model_fit.forecast(steps=n_hours)\n",
    "\n",
    "forecast_daily = np.array(forecast).reshape(-1, 24)\n",
    "daily_costs = forecast_daily.sum(axis=1)"
   ]
  },
  {
   "cell_type": "code",
   "execution_count": null,
   "metadata": {},
   "outputs": [],
   "source": [
    "print('Hourly costs\\n', forecast)"
   ]
  },
  {
   "cell_type": "code",
   "execution_count": null,
   "metadata": {},
   "outputs": [],
   "source": [
    "print('\\nDaily costs')\n",
    "for i, cost in enumerate(daily_costs, start=1):\n",
    "    print(f'Daily cost for day {i}: ${cost}')"
   ]
  },
  {
   "cell_type": "code",
   "execution_count": null,
   "metadata": {},
   "outputs": [],
   "source": [
    "total_monthly_cost = sum(daily_costs)\n",
    "\n",
    "print(f'\\nTotal monthly cost: ${total_monthly_cost}')"
   ]
  }
 ],
 "metadata": {
  "kernelspec": {
   "display_name": "Python 3",
   "language": "python",
   "name": "python3"
  },
  "language_info": {
   "codemirror_mode": {
    "name": "ipython",
    "version": 3
   },
   "file_extension": ".py",
   "mimetype": "text/x-python",
   "name": "python",
   "nbconvert_exporter": "python",
   "pygments_lexer": "ipython3",
   "version": "3.12.3"
  }
 },
 "nbformat": 4,
 "nbformat_minor": 2
}
