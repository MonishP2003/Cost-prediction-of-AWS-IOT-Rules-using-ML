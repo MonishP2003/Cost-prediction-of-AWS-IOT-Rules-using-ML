{
 "cells": [
  {
   "cell_type": "code",
   "execution_count": 1,
   "metadata": {},
   "outputs": [],
   "source": [
    "import numpy as np\n",
    "import pandas as pd\n",
    "from statsmodels.tsa.statespace.sarimax import SARIMAX\n",
    "import datetime\n",
    "import boto3\n",
    "from io import StringIO\n",
    "import gzip"
   ]
  },
  {
   "cell_type": "code",
   "execution_count": 2,
   "metadata": {},
   "outputs": [],
   "source": [
    "# Create an STS client\n",
    "sts_client = boto3.client('sts')\n",
    "\n",
    "# Assume the 'dataexportrole' role with an external ID\n",
    "assumed_role = sts_client.assume_role(\n",
    "    RoleArn=\"arn:aws:iam::992382823879:role/dataexportrole\",\n",
    "    RoleSessionName=\"AssumeRoleSession1\",\n",
    "    ExternalId=\"VsCode\"\n",
    ")\n",
    "\n",
    "# Extract the temporary credentials\n",
    "credentials = assumed_role['Credentials']\n",
    "\n",
    "# Create a new session with the assumed role's temporary credentials\n",
    "session = boto3.Session(\n",
    "    aws_access_key_id=credentials['AccessKeyId'],\n",
    "    aws_secret_access_key=credentials['SecretAccessKey'],\n",
    "    aws_session_token=credentials['SessionToken'],\n",
    "    region_name='us-east-1'\n",
    ")\n",
    "\n",
    "# Use the session to create an S3 client\n",
    "s3_client = session.client('s3')\n",
    "\n",
    "bucket_name = 'dtbktmonish'\n",
    "data_export_file_path = 'data/dataexport/data/BILLING_PERIOD=2024-06/dataexport-00001.csv.gz'\n",
    "\n",
    "# Access the S3 object\n",
    "response = s3_client.get_object(Bucket=bucket_name, Key=data_export_file_path)\n",
    "gzipped_content = response['Body'].read()\n",
    "\n",
    "# Decompress and read the content\n",
    "decompressed_content = gzip.decompress(gzipped_content)\n",
    "data_string = StringIO(decompressed_content.decode('utf-8'))\n",
    "data = pd.read_csv(data_string, index_col=0)\n"
   ]
  },
  {
   "cell_type": "code",
   "execution_count": 3,
   "metadata": {},
   "outputs": [],
   "source": [
    "data['line_item_usage_end_date'] = data['line_item_usage_end_date'].str.replace('T0', 'T', regex=False)\n",
    "data['line_item_usage_end_date'] = pd.to_datetime(data['line_item_usage_end_date'])\n",
    "data.set_index('line_item_usage_end_date', inplace=True)"
   ]
  },
  {
   "cell_type": "code",
   "execution_count": 4,
   "metadata": {},
   "outputs": [
    {
     "name": "stderr",
     "output_type": "stream",
     "text": [
      "C:\\Users\\monis\\AppData\\Roaming\\Python\\Python312\\site-packages\\statsmodels\\tsa\\statespace\\sarimax.py:997: UserWarning: Non-stationary starting seasonal autoregressive Using zeros as starting parameters.\n",
      "  warn('Non-stationary starting seasonal autoregressive'\n"
     ]
    }
   ],
   "source": [
    "filtered_data = data[data['line_item_operation'] == 'Rules']\n",
    "hourly_data = filtered_data['pricing_public_on_demand_cost'].resample('h').sum()\n",
    "model = SARIMAX(hourly_data, order=(1,1,1), seasonal_order=(1,1,1,12))\n",
    "model_fit = model.fit()\n",
    "\n",
    "n_hours = 24 * 31\n",
    "forecast = model_fit.forecast(steps=n_hours)\n",
    "\n",
    "forecast_daily = np.array(forecast).reshape(-1, 24)\n",
    "daily_costs = forecast_daily.sum(axis=1)"
   ]
  },
  {
   "cell_type": "code",
   "execution_count": 5,
   "metadata": {},
   "outputs": [
    {
     "name": "stdout",
     "output_type": "stream",
     "text": [
      "Hourly costs\n",
      " 2024-06-20 09:00:00+00:00    0.000007\n",
      "2024-06-20 10:00:00+00:00    0.000009\n",
      "2024-06-20 11:00:00+00:00    0.000008\n",
      "2024-06-20 12:00:00+00:00    0.000008\n",
      "2024-06-20 13:00:00+00:00    0.000008\n",
      "                               ...   \n",
      "2024-07-21 04:00:00+00:00    0.000802\n",
      "2024-07-21 05:00:00+00:00    0.000802\n",
      "2024-07-21 06:00:00+00:00    0.000802\n",
      "2024-07-21 07:00:00+00:00    0.000802\n",
      "2024-07-21 08:00:00+00:00    0.000848\n",
      "Freq: h, Name: predicted_mean, Length: 744, dtype: float64\n"
     ]
    }
   ],
   "source": [
    "print('Hourly costs\\n', forecast)"
   ]
  },
  {
   "cell_type": "code",
   "execution_count": 6,
   "metadata": {},
   "outputs": [
    {
     "name": "stdout",
     "output_type": "stream",
     "text": [
      "\n",
      "Daily costs\n",
      "Daily cost for day 1: $0.0004470693135410147\n",
      "Daily cost for day 2: $0.0010725700238530837\n",
      "Daily cost for day 3: $0.001696874129982088\n",
      "Daily cost for day 4: $0.0023211782361110575\n",
      "Daily cost for day 5: $0.0029454823422400273\n",
      "Daily cost for day 6: $0.0035697864483689983\n",
      "Daily cost for day 7: $0.004194090554497969\n",
      "Daily cost for day 8: $0.0048183946606269405\n",
      "Daily cost for day 9: $0.005442698766755913\n",
      "Daily cost for day 10: $0.006067002872884886\n",
      "Daily cost for day 11: $0.006691306979013853\n",
      "Daily cost for day 12: $0.007315611085142819\n",
      "Daily cost for day 13: $0.007939915191271784\n",
      "Daily cost for day 14: $0.00856421929740075\n",
      "Daily cost for day 15: $0.009188523403529715\n",
      "Daily cost for day 16: $0.009812827509658681\n",
      "Daily cost for day 17: $0.010437131615787647\n",
      "Daily cost for day 18: $0.011061435721916613\n",
      "Daily cost for day 19: $0.01168573982804558\n",
      "Daily cost for day 20: $0.012310043934174552\n",
      "Daily cost for day 21: $0.012934348040303523\n",
      "Daily cost for day 22: $0.013558652146432494\n",
      "Daily cost for day 23: $0.014182956252561465\n",
      "Daily cost for day 24: $0.014807260358690436\n",
      "Daily cost for day 25: $0.015431564464819407\n",
      "Daily cost for day 26: $0.016055868570948376\n",
      "Daily cost for day 27: $0.01668017267707735\n",
      "Daily cost for day 28: $0.01730447678320632\n",
      "Daily cost for day 29: $0.01792878088933529\n",
      "Daily cost for day 30: $0.01855308499546426\n",
      "Daily cost for day 31: $0.019177389101593233\n"
     ]
    }
   ],
   "source": [
    "print('\\nDaily costs')\n",
    "for i, cost in enumerate(daily_costs, start=1):\n",
    "    print(f'Daily cost for day {i}: ${cost}')"
   ]
  },
  {
   "cell_type": "code",
   "execution_count": 7,
   "metadata": {},
   "outputs": [
    {
     "name": "stdout",
     "output_type": "stream",
     "text": [
      "\n",
      "Total monthly cost: $0.3041964561952361\n"
     ]
    }
   ],
   "source": [
    "total_monthly_cost = sum(daily_costs)\n",
    "\n",
    "print(f'\\nTotal monthly cost: ${total_monthly_cost}')"
   ]
  }
 ],
 "metadata": {
  "kernelspec": {
   "display_name": "Python 3",
   "language": "python",
   "name": "python3"
  },
  "language_info": {
   "codemirror_mode": {
    "name": "ipython",
    "version": 3
   },
   "file_extension": ".py",
   "mimetype": "text/x-python",
   "name": "python",
   "nbconvert_exporter": "python",
   "pygments_lexer": "ipython3",
   "version": "3.12.3"
  }
 },
 "nbformat": 4,
 "nbformat_minor": 2
}
